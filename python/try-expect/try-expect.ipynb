{
 "cells": [
  {
   "cell_type": "markdown",
   "metadata": {},
   "source": [
    "# immutable\n",
    "    the data types that cannot be changed\n",
    "# mutable\n",
    "    the data types that can be modified"
   ]
  },
  {
   "cell_type": "code",
   "execution_count": 1,
   "metadata": {},
   "outputs": [
    {
     "name": "stdout",
     "output_type": "stream",
     "text": [
      "this is the value of x 6\n",
      "5\n"
     ]
    }
   ],
   "source": [
    "num:int = 5\n",
    "def abc(x:int):\n",
    "    x = 6\n",
    "    print(\"this is the value of x {}\".format(x))\n",
    "abc(num)\n",
    "print(num)"
   ]
  },
  {
   "cell_type": "code",
   "execution_count": 3,
   "metadata": {},
   "outputs": [
    {
     "name": "stdout",
     "output_type": "stream",
     "text": [
      "[200, 17, 100]\n",
      "['raza', 'ali', 1]\n"
     ]
    }
   ],
   "source": [
    "from typing import Any\n",
    "lst = [\"raza\",\"ali\",1]\n",
    "def abc(x:list[Any]):\n",
    "    x = [200,17]\n",
    "    x.append(100)\n",
    "    print(x)\n",
    "abc(lst)\n",
    "print(lst)"
   ]
  },
  {
   "cell_type": "code",
   "execution_count": 13,
   "metadata": {},
   "outputs": [
    {
     "name": "stdout",
     "output_type": "stream",
     "text": [
      "error\n",
      "logic\n"
     ]
    }
   ],
   "source": [
    "ls = [1,2]\n",
    "try:\n",
    "    ls[10]\n",
    "except(ZeroDivisionError,IndexError):\n",
    "    print(\"error\")\n",
    "print(\"logic\")"
   ]
  },
  {
   "cell_type": "code",
   "execution_count": null,
   "metadata": {},
   "outputs": [],
   "source": []
  }
 ],
 "metadata": {
  "kernelspec": {
   "display_name": "my_python",
   "language": "python",
   "name": "python3"
  },
  "language_info": {
   "codemirror_mode": {
    "name": "ipython",
    "version": 3
   },
   "file_extension": ".py",
   "mimetype": "text/x-python",
   "name": "python",
   "nbconvert_exporter": "python",
   "pygments_lexer": "ipython3",
   "version": "3.12.0"
  }
 },
 "nbformat": 4,
 "nbformat_minor": 2
}
