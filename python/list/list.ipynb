{
 "cells": [
  {
   "cell_type": "markdown",
   "metadata": {},
   "source": [
    "LIST AND IT METHODS WITH SLICING AND INDEXING"
   ]
  },
  {
   "cell_type": "code",
   "execution_count": 16,
   "metadata": {},
   "outputs": [
    {
     "data": {
      "text/plain": [
       "['ali', 'hussain']"
      ]
     },
     "execution_count": 16,
     "metadata": {},
     "output_type": "execute_result"
    }
   ],
   "source": [
    "#This is a simple list containing string\n",
    "mylist:list[str] = [\"raza\",\"ali\",\"hussain\",\"hasnain\"]\n",
    "mylist[1:-1]\n"
   ]
  },
  {
   "cell_type": "code",
   "execution_count": 17,
   "metadata": {},
   "outputs": [
    {
     "data": {
      "text/plain": [
       "'append'"
      ]
     },
     "metadata": {},
     "output_type": "display_data"
    },
    {
     "data": {
      "text/plain": [
       "'clear'"
      ]
     },
     "metadata": {},
     "output_type": "display_data"
    },
    {
     "data": {
      "text/plain": [
       "'copy'"
      ]
     },
     "metadata": {},
     "output_type": "display_data"
    },
    {
     "data": {
      "text/plain": [
       "'count'"
      ]
     },
     "metadata": {},
     "output_type": "display_data"
    },
    {
     "data": {
      "text/plain": [
       "'extend'"
      ]
     },
     "metadata": {},
     "output_type": "display_data"
    },
    {
     "data": {
      "text/plain": [
       "'index'"
      ]
     },
     "metadata": {},
     "output_type": "display_data"
    },
    {
     "data": {
      "text/plain": [
       "'insert'"
      ]
     },
     "metadata": {},
     "output_type": "display_data"
    },
    {
     "data": {
      "text/plain": [
       "'pop'"
      ]
     },
     "metadata": {},
     "output_type": "display_data"
    },
    {
     "data": {
      "text/plain": [
       "'remove'"
      ]
     },
     "metadata": {},
     "output_type": "display_data"
    },
    {
     "data": {
      "text/plain": [
       "'reverse'"
      ]
     },
     "metadata": {},
     "output_type": "display_data"
    },
    {
     "data": {
      "text/plain": [
       "'sort'"
      ]
     },
     "metadata": {},
     "output_type": "display_data"
    },
    {
     "data": {
      "text/plain": [
       "[None, None, None, None, None, None, None, None, None, None, None]"
      ]
     },
     "execution_count": 17,
     "metadata": {},
     "output_type": "execute_result"
    }
   ],
   "source": [
    "[display(i) for i in dir(list) if \"__\" not in i]"
   ]
  },
  {
   "cell_type": "code",
   "execution_count": 36,
   "metadata": {},
   "outputs": [
    {
     "data": {
      "text/plain": [
       "'hasnain'"
      ]
     },
     "execution_count": 36,
     "metadata": {},
     "output_type": "execute_result"
    }
   ],
   "source": [
    "from audioop import reverse\n",
    "from typing import Any\n",
    "mylist:list[Any] = [\"raza\",\"ali\",\"hussain\",\"hasnain\"]\n",
    "my_tuple = ({\"myname\":\"raza\"})\n",
    "mylist.append(my_tuple)\n",
    "mylist.reverse()\n",
    "mylist[0]\n",
    "mylist.pop(1)\n"
   ]
  },
  {
   "cell_type": "code",
   "execution_count": 29,
   "metadata": {},
   "outputs": [
    {
     "name": "stdout",
     "output_type": "stream",
     "text": [
      "['raza', 'ali', 'hussain', 'hasnain', {'name': 'RaZa'}]\n",
      "['raza', 'ali', 'hussain', 'hasnain', {'name': 'RaZa'}]\n",
      "['raza', 'ali', 'hussain', 'hasnain', {'name': 'RAZA'}]\n",
      "['raza', 'ali', 'hussain', 'hasnain', {'name': 'RAZA'}]\n"
     ]
    }
   ],
   "source": [
    "mylist:list[Any] = [\"raza\",\"ali\",\"hussain\",\"hasnain\",{\"name\":\"RaZa\"}]\n",
    "print(mylist)\n",
    "new_list = mylist.copy()\n",
    "print(new_list)\n",
    "new_list[4][\"name\"] = \"RAZA\"\n",
    "print(mylist)\n",
    "print(new_list)"
   ]
  },
  {
   "cell_type": "code",
   "execution_count": 30,
   "metadata": {},
   "outputs": [
    {
     "name": "stdout",
     "output_type": "stream",
     "text": [
      "3\n",
      "2\n"
     ]
    }
   ],
   "source": [
    "mylist:list[str] = [\"raza\",\"ali\",\"hussain\",\"hasnain\",\"raza\",\"raza\",\"ali\"]\n",
    "print(mylist.count(\"raza\"))\n",
    "print(mylist.count(\"ali\"))\n"
   ]
  },
  {
   "cell_type": "code",
   "execution_count": null,
   "metadata": {},
   "outputs": [],
   "source": []
  },
  {
   "cell_type": "code",
   "execution_count": 45,
   "metadata": {},
   "outputs": [
    {
     "name": "stdout",
     "output_type": "stream",
     "text": [
      "['raza', 'ali', 'hussain', 'hasnain', 'apple', 'bannana', 'orange']\n"
     ]
    },
    {
     "data": {
      "text/plain": [
       "['raza', 'rAZa', 'orange', 'hussain', 'bannana', 'apple', 'ali']"
      ]
     },
     "execution_count": 45,
     "metadata": {},
     "output_type": "execute_result"
    }
   ],
   "source": [
    "mylist:list[Any] = [\"raza\",\"ali\",\"hussain\",\"hasnain\"]\n",
    "newlist = ['apple','bannana','orange']\n",
    "mylist.extend(newlist)\n",
    "print(mylist)\n",
    "mylist.insert(0,\"rAZa\")\n",
    "mylist.index('orange')\n",
    "mylist.remove(\"hasnain\")\n",
    "mylist.sort(reverse=True)\n",
    "mylist"
   ]
  },
  {
   "cell_type": "code",
   "execution_count": 122,
   "metadata": {},
   "outputs": [
    {
     "data": {
      "text/plain": [
       "['travis', 'adam', 'kevin', 'ali', 'babar', 'virat', 'raza']"
      ]
     },
     "execution_count": 122,
     "metadata": {},
     "output_type": "execute_result"
    }
   ],
   "source": [
    "            #0      #1      #2     #3     #4     #5      #6\n",
    "mylist = [\"raza\",\"virat\",\"babar\",\"ali\",\"kevin\",\"adam\",\"travis\"]\n",
    "            #-7   #-6      #-5    #-4    #-3     #-2     #-1\n",
    "mylist[6:-8:-1]"
   ]
  },
  {
   "cell_type": "code",
   "execution_count": 109,
   "metadata": {},
   "outputs": [
    {
     "name": "stdout",
     "output_type": "stream",
     "text": [
      "200 x 1 = 200\n",
      "200 x 2 = 400\n",
      "200 x 3 = 600\n",
      "200 x 4 = 800\n",
      "200 x 5 = 1000\n",
      "200 x 6 = 1200\n",
      "200 x 7 = 1400\n",
      "200 x 8 = 1600\n",
      "200 x 9 = 1800\n",
      "200 x 10 = 2000\n",
      "200 x 11 = 2200\n",
      "200 x 12 = 2400\n"
     ]
    }
   ],
   "source": [
    "number_input = int(input(\"Enter your number:\"))\n",
    "for num in range(1,13):\n",
    "    print(f\"\"\"{number_input} x {num} = {number_input * num}\"\"\")"
   ]
  }
 ],
 "metadata": {
  "kernelspec": {
   "display_name": "my_python",
   "language": "python",
   "name": "python3"
  },
  "language_info": {
   "codemirror_mode": {
    "name": "ipython",
    "version": 3
   },
   "file_extension": ".py",
   "mimetype": "text/x-python",
   "name": "python",
   "nbconvert_exporter": "python",
   "pygments_lexer": "ipython3",
   "version": "3.12.0"
  }
 },
 "nbformat": 4,
 "nbformat_minor": 2
}
