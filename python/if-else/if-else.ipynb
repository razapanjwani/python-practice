{
 "cells": [
  {
   "cell_type": "markdown",
   "metadata": {},
   "source": [
    "# Banking System\n"
   ]
  },
  {
   "cell_type": "code",
   "execution_count": 42,
   "metadata": {},
   "outputs": [
    {
     "name": "stdout",
     "output_type": "stream",
     "text": [
      "you have login\n",
      "[{'name': 'raza', 'password': '123', 'balance': 40000}, {'name': 'ali', 'password': '456', 'balance': 40000}, {'name': 'hussain', 'password': '789', 'balance': 60000}]\n"
     ]
    }
   ],
   "source": [
    "BANK_DATABASE = [{\"name\":\"raza\",\"password\":\"123\",\"balance\":50000},{\"name\":\"ali\",\"password\":\"456\",\"balance\":40000},{\"name\":\"hussain\",\"password\":\"789\",\"balance\":60000}]\n",
    "INDEX = 0\n",
    "user_name = input(\"Input your name : \")\n",
    "user_password = input(\"Enter your password : \")\n",
    "for index,value in enumerate(BANK_DATABASE):\n",
    "    name = value[\"name\"]\n",
    "    password = value[\"password\"]\n",
    "    balance = value[\"balance\"]\n",
    "    if(user_name == name and user_password == password):\n",
    "        print(\"you have login\")\n",
    "        if(balance):\n",
    "            amount_needed = int(input(\"Enter the amount you need : \"))\n",
    "            if(amount_needed <= balance):\n",
    "                new_balance = balance - amount_needed\n",
    "                BANK_DATABASE[index][\"balance\"] = new_balance\n",
    "                break\n",
    "            else:\n",
    "                print(\"Not sufficient amount\")    \n",
    "        else:\n",
    "            print(\"you dont have any money\")\n",
    "    else:\n",
    "        print(\"you are not registered\")\n",
    "\n",
    "print(BANK_DATABASE)"
   ]
  },
  {
   "cell_type": "code",
   "execution_count": 54,
   "metadata": {},
   "outputs": [
    {
     "name": "stdout",
     "output_type": "stream",
     "text": [
      "yo\n"
     ]
    }
   ],
   "source": [
    "print(\"yo\") if(1>0) else print(\"y\")  "
   ]
  }
 ],
 "metadata": {
  "kernelspec": {
   "display_name": "my_python",
   "language": "python",
   "name": "python3"
  },
  "language_info": {
   "codemirror_mode": {
    "name": "ipython",
    "version": 3
   },
   "file_extension": ".py",
   "mimetype": "text/x-python",
   "name": "python",
   "nbconvert_exporter": "python",
   "pygments_lexer": "ipython3",
   "version": "3.12.0"
  }
 },
 "nbformat": 4,
 "nbformat_minor": 2
}
