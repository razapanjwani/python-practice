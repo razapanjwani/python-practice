{
 "cells": [
  {
   "cell_type": "markdown",
   "metadata": {},
   "source": [
    "# OOP (Object Oriented Programming)\n",
    ".Class\n",
    "\n",
    "    *method\n",
    "\n",
    "        *first argument must be additional variable (self, this, or anything else)\n",
    "        attribute\n",
    "\n",
    "    *connect with individual object\n",
    "        *class variables\n",
    "\n",
    "    *constructor\n",
    "\n",
    "        *def __init__(self,arg1, arg2)\n",
    "    *Class variable\n",
    "\n",
    "        *this value use for all objects\n",
    "            *ClassName.class_vriable\n",
    "    *class ClassName():\n",
    "        *class_variable1 : type = Value\n",
    "# Syntax of class\n",
    "    *class ClassName():\n",
    "        pass"
   ]
  },
  {
   "cell_type": "code",
   "execution_count": null,
   "metadata": {},
   "outputs": [],
   "source": [
    "class Person:\n",
    "    def __init__(self,cnic:int,school,str) -> None:\n",
    "        self.cnic = cnic\n",
    "        self.school = school"
   ]
  },
  {
   "cell_type": "code",
   "execution_count": 5,
   "metadata": {},
   "outputs": [],
   "source": [
    "class Person:\n",
    "    def __init__(self,cnic:int,school:str) -> None:\n",
    "        self.cnic = cnic\n",
    "        self.school = school\n",
    "\n",
    "class Teacher(Person):\n",
    "    def __init__(self,name:str,age:int,cnic:int,school:str) -> None:\n",
    "        super().__init__(cnic,school)\n",
    "        self.name = name\n",
    "        self.age = age\n",
    "        self.cnic = cnic\n",
    "        self.school = school\n",
    "    \n",
    "    def teaching(self,subject:str):\n",
    "        print(f\"{self.name} teaches this {subject}\")\n",
    "    \n"
   ]
  },
  {
   "cell_type": "code",
   "execution_count": 10,
   "metadata": {},
   "outputs": [
    {
     "data": {
      "text/plain": [
       "'public'"
      ]
     },
     "execution_count": 10,
     "metadata": {},
     "output_type": "execute_result"
    }
   ],
   "source": [
    "teacher1 = Teacher(\"raza\",17,1234,\"habib\")\n",
    "person1 = Person(12345,\"public\")\n",
    "teacher1.cnic\n",
    "person1.school"
   ]
  },
  {
   "cell_type": "markdown",
   "metadata": {},
   "source": [
    "# Bank System"
   ]
  },
  {
   "cell_type": "code",
   "execution_count": 37,
   "metadata": {},
   "outputs": [],
   "source": [
    "class BankAccount():\n",
    "    Account_Count:int = 0\n",
    "    Interest_Rate:float = 0.02\n",
    "    def __init__(self,account_name:str,account_balance:int | float,account_number:int) -> None:\n",
    "        self.account_name = account_name\n",
    "        self.account_balance = account_balance\n",
    "        self.account_number = account_number\n",
    "        BankAccount.Account_Count += 1\n",
    "    \n",
    "    def depositing(self,amount:int):\n",
    "        self.account_balance += amount\n",
    "        print(f\"You added {amount} RS and your bank accout is {self.account_balance}\")\n",
    "    \n",
    "    def withdrawing(self,amount:int):\n",
    "        if self.account_balance <= amount:\n",
    "            print(\"not sufficient amount\")\n",
    "            return\n",
    "        \n",
    "        else:\n",
    "            self.account_balance -= amount\n",
    "            print(f\"you have withdrawn {amount} RS your account balance is {self.account_balance}\")\n",
    "\n",
    "class SavingsAccount(BankAccount):\n",
    "    def __init__(self, account_name: str, account_balance: int, account_number: int) -> None:\n",
    "        super().__init__(account_name, account_balance, account_number)\n",
    "\n",
    "    def calculating_interest(self):\n",
    "        interest = self.account_balance * BankAccount.Interest_Rate\n",
    "        self.account_balance += interest\n",
    "        print(self.account_balance)\n"
   ]
  },
  {
   "cell_type": "code",
   "execution_count": 38,
   "metadata": {},
   "outputs": [
    {
     "name": "stdout",
     "output_type": "stream",
     "text": [
      "10200.0\n"
     ]
    }
   ],
   "source": [
    "acc1 = SavingsAccount(\"raza\",10000,123)\n",
    "acc2 = SavingsAccount(\"ali\",11000,124)\n",
    "acc1.calculating_interest()\n"
   ]
  }
 ],
 "metadata": {
  "kernelspec": {
   "display_name": "my_python",
   "language": "python",
   "name": "python3"
  },
  "language_info": {
   "codemirror_mode": {
    "name": "ipython",
    "version": 3
   },
   "file_extension": ".py",
   "mimetype": "text/x-python",
   "name": "python",
   "nbconvert_exporter": "python",
   "pygments_lexer": "ipython3",
   "version": "3.12.0"
  }
 },
 "nbformat": 4,
 "nbformat_minor": 2
}
