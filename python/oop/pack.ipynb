{
 "cells": [
  {
   "cell_type": "code",
   "execution_count": 29,
   "metadata": {},
   "outputs": [
    {
     "name": "stdout",
     "output_type": "stream",
     "text": [
      "(1, 2, 3, 4, 5, 1, 2, 3, 4, 5)\n",
      "(1, 2, 3, 4, 5, 1, 2, 3, 4, 5)\n",
      "(1, 2, 3, 4, 5, 1, 2, 3, 4, 5)\n",
      "(1, 2, 3, 4, 5, 1, 2, 3, 4, 5)\n",
      "(1, 2, 3, 4, 5, 1, 2, 3, 4, 5)\n"
     ]
    }
   ],
   "source": [
    "from package.package import Calculator\n",
    "@Calculator\n",
    "def my_func(numbers):\n",
    "    # print(numbers)\n",
    "\n",
    "    for number in numbers:\n",
    "        print(numbers * 2)\n",
    "        # for num in number:\n",
    "        #     print(num**2)\n",
    "my_func(1,2,3,4,5)\n",
    "\n"
   ]
  },
  {
   "cell_type": "markdown",
   "metadata": {},
   "source": [
    "# Acess Decorator\n",
    "##### There are three types of decorator \n",
    "    *public\n",
    "    *private\n",
    "    *protected"
   ]
  },
  {
   "cell_type": "code",
   "execution_count": 8,
   "metadata": {},
   "outputs": [
    {
     "name": "stdout",
     "output_type": "stream",
     "text": [
      "\n",
      "name : piaic\n",
      "student_count : 100\n",
      "exam_date : 3 nov\n",
      "\n"
     ]
    }
   ],
   "source": [
    "class Organization():\n",
    "    def __init__(self,name:str) -> None:\n",
    "        self.name:str = name\n",
    "        self._student_count:int = 100\n",
    "        self.__exam_data:str = \"3 nov\"\n",
    "piaic = Organization(\"piaic\")\n",
    "print(f\"\"\"\n",
    "name : {piaic.name}\n",
    "student_count : {piaic._student_count}\n",
    "exam_date : {piaic._Organization__exam_data}\n",
    "\"\"\")"
   ]
  },
  {
   "cell_type": "code",
   "execution_count": 33,
   "metadata": {},
   "outputs": [
    {
     "name": "stdout",
     "output_type": "stream",
     "text": [
      "you called the function\n",
      "hello world raza\n"
     ]
    }
   ],
   "source": [
    "class Example():\n",
    "\n",
    "    def __call__(self,name):\n",
    "        print(f\"hello world {name}\")\n",
    "\n",
    "    def __str__(self) :\n",
    "        return \"you called the function\"\n",
    "\n",
    "exampel = Example()\n",
    "print(exampel)\n",
    "exampel(\"raza\")"
   ]
  },
  {
   "cell_type": "markdown",
   "metadata": {},
   "source": [
    "# Abstract Class"
   ]
  },
  {
   "cell_type": "code",
   "execution_count": 37,
   "metadata": {},
   "outputs": [
    {
     "ename": "TypeError",
     "evalue": "Can't instantiate abstract class Animal without an implementation for abstract method 'eat'",
     "output_type": "error",
     "traceback": [
      "\u001b[1;31m---------------------------------------------------------------------------\u001b[0m",
      "\u001b[1;31mTypeError\u001b[0m                                 Traceback (most recent call last)",
      "Cell \u001b[1;32mIn[37], line 19\u001b[0m\n\u001b[0;32m     17\u001b[0m raza \u001b[38;5;241m=\u001b[39m Cat()\n\u001b[0;32m     18\u001b[0m raza\u001b[38;5;241m.\u001b[39meat(\u001b[38;5;124m\"\u001b[39m\u001b[38;5;124mmeat\u001b[39m\u001b[38;5;124m\"\u001b[39m)\n\u001b[1;32m---> 19\u001b[0m ali \u001b[38;5;241m=\u001b[39m \u001b[43mAnimal\u001b[49m\u001b[43m(\u001b[49m\u001b[43m)\u001b[49m\n\u001b[0;32m     20\u001b[0m ali\u001b[38;5;241m.\u001b[39meat(\u001b[38;5;124m\"\u001b[39m\u001b[38;5;124mnihari\u001b[39m\u001b[38;5;124m\"\u001b[39m)\n",
      "\u001b[1;31mTypeError\u001b[0m: Can't instantiate abstract class Animal without an implementation for abstract method 'eat'"
     ]
    }
   ],
   "source": [
    "from abc import ABC, abstractmethod\n",
    "class Animal(ABC):\n",
    "    \n",
    "    def __init__(self) -> None:\n",
    "        super().__init__()\n",
    "    @abstractmethod\n",
    "    def eat(self,food:str):\n",
    "        return f\"eating {food}\"\n",
    "\n",
    "class Cat(Animal):\n",
    "    def __init__(self) -> None:\n",
    "        pass\n",
    "    \n",
    "    def eat(self,food:str):\n",
    "        return f\"cat function {food}\"\n",
    "\n",
    "raza = Cat()\n",
    "raza.eat(\"meat\")\n",
    "ali = Animal()\n"
   ]
  },
  {
   "cell_type": "code",
   "execution_count": null,
   "metadata": {},
   "outputs": [],
   "source": [
    "class Name:\n",
    "    def __init__(self) -> None:\n",
    "        pass\n",
    "    "
   ]
  }
 ],
 "metadata": {
  "kernelspec": {
   "display_name": "my_python",
   "language": "python",
   "name": "python3"
  },
  "language_info": {
   "codemirror_mode": {
    "name": "ipython",
    "version": 3
   },
   "file_extension": ".py",
   "mimetype": "text/x-python",
   "name": "python",
   "nbconvert_exporter": "python",
   "pygments_lexer": "ipython3",
   "version": "3.12.0"
  }
 },
 "nbformat": 4,
 "nbformat_minor": 2
}
