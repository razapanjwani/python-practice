{
 "cells": [
  {
   "cell_type": "markdown",
   "metadata": {},
   "source": [
    "# Function Overloading\n",
    "    When we define a function with same name but different signature or parameters or the other definition is when a function of same do different work"
   ]
  },
  {
   "cell_type": "code",
   "execution_count": 27,
   "metadata": {},
   "outputs": [],
   "source": [
    "from typing import  overload\n",
    "\n",
    "@overload\n",
    "def addition(x:int,y:int) -> int:\n",
    "    ...\n",
    "@overload\n",
    "def addition(x:str,y:str) -> str:\n",
    "    ...\n",
    "@overload\n",
    "def addition(x:list[str] , y:list[str]) -> list[str]:\n",
    "    ...\n",
    "\n",
    "def addition(x:str | int | list[str],y:str | int | list[str] ) -> str | int | list[str]:\n",
    "    # isinstance is used to check the type if the type matches it return true or else it retuns false\n",
    "    if(isinstance(x,int) and isinstance(y,int)):\n",
    "        return x + y\n",
    "    if(isinstance(x,(list)) and isinstance(y,(list)) and all(isinstance(name,str) for name in x) and all(isinstance(name,str) for name in y)):\n",
    "        # all function is used to check if the iterable has true values if one value is false it retuens false\n",
    "        return x + y\n",
    "    if(isinstance(x,str) and isinstance(y,str)):\n",
    "        return x + y\n",
    "    else:\n",
    "        raise TypeError(\"Not the right type\")"
   ]
  },
  {
   "cell_type": "code",
   "execution_count": 29,
   "metadata": {},
   "outputs": [
    {
     "data": {
      "text/plain": [
       "['Raza', 'Ali', 'raza', 'ali']"
      ]
     },
     "execution_count": 29,
     "metadata": {},
     "output_type": "execute_result"
    }
   ],
   "source": [
    "addition([\"Raza\",\"Ali\"],[\"raza\",\"ali\"])"
   ]
  },
  {
   "cell_type": "markdown",
   "metadata": {},
   "source": [
    "# Method Overloading\n",
    "    it has same definition as above the only difference is that the method overloading is performed in Classess"
   ]
  },
  {
   "cell_type": "code",
   "execution_count": 40,
   "metadata": {},
   "outputs": [],
   "source": [
    "from typing import Tuple\n",
    "class OverLoader():\n",
    "    @overload\n",
    "    def addd(self,x:int,y:int) -> int:\n",
    "        ...\n",
    "    @overload\n",
    "    def addd(self,x:str,y:str) -> str:\n",
    "        ... \n",
    "    @overload\n",
    "    def addd(self,x:Tuple[str,str],y:Tuple[str,str]) -> Tuple[str,str]:\n",
    "        ... \n",
    "\n",
    "    def addd(self,x:int | str | tuple[str,str],y:int | str | tuple[str,str]) -> int | str | tuple:\n",
    "        if(isinstance(x,int) and isinstance(y,int)):\n",
    "            return x + y\n",
    "        if(isinstance(x,str) and isinstance(y,str)):\n",
    "            return x + y\n",
    "        if(isinstance(x,tuple) and isinstance(y,tuple)):\n",
    "            return x + y\n",
    "        else:\n",
    "            raise TypeError(\"not the type\")\n",
    "            "
   ]
  },
  {
   "cell_type": "code",
   "execution_count": 42,
   "metadata": {},
   "outputs": [
    {
     "data": {
      "text/plain": [
       "('rza', 'alo', 'rza', 'alo')"
      ]
     },
     "execution_count": 42,
     "metadata": {},
     "output_type": "execute_result"
    }
   ],
   "source": [
    "adder = OverLoader()\n",
    "adder.addd((\"rza\",\"alo\"),(\"rza\",\"alo\"))"
   ]
  },
  {
   "cell_type": "markdown",
   "metadata": {},
   "source": [
    "# Inheratance\n",
    "when we create a parent class and a child class the child class can inherit from the parent this means that the child class can have all the attributes and method pf the parent class\n",
    "\n",
    "# Multiple Inheritance\n",
    "its the same as above but a child class can also inherit more than one class"
   ]
  },
  {
   "cell_type": "code",
   "execution_count": 1,
   "metadata": {},
   "outputs": [],
   "source": [
    "class Mother():\n",
    "    def __init__(self,eyecolor:str,haircolor:str) -> None:\n",
    "        self.eyecolor:str = eyecolor\n",
    "        self.haircolor:str = haircolor\n",
    "\n",
    "    def eating(self,dish:str):\n",
    "        print(f\"Mother function {dish}\")\n",
    "class Father():\n",
    "    def __init__(self,height:str,surname:str) -> None:\n",
    "        self.height:str = height\n",
    "        self.surname:str = surname\n",
    "\n",
    "    def speaking(self,speak:str):\n",
    "        print(f\"father function {speak}\")\n",
    "\n",
    "class Child(Mother,Father):\n",
    "    def __init__(self, eyecolor: str, haircolor: str,height:str,surname:str) -> None:\n",
    "        Mother.__init__(self,eyecolor, haircolor)\n",
    "        Father.__init__(self,height,surname)\n",
    "\n",
    "    \n",
    "    \n"
   ]
  },
  {
   "cell_type": "code",
   "execution_count": 3,
   "metadata": {},
   "outputs": [
    {
     "name": "stdout",
     "output_type": "stream",
     "text": [
      "Mother function biryani\n",
      "father function hello\n"
     ]
    }
   ],
   "source": [
    "child1 = Child(\"brown\",\"black\",\"6feet\",\"panjwani\")\n",
    "child1.eating(\"biryani\")\n",
    "child1.eyecolor\n",
    "child2 = Child(\"black\",\"black\",\"6feet\",\"panjwani\")\n",
    "child2.speaking(\"hello\")"
   ]
  },
  {
   "cell_type": "markdown",
   "metadata": {},
   "source": []
  },
  {
   "cell_type": "markdown",
   "metadata": {},
   "source": [
    "# overriding"
   ]
  },
  {
   "cell_type": "code",
   "execution_count": 5,
   "metadata": {},
   "outputs": [],
   "source": [
    "class Animal():        \n",
    "    def type(self,type:str):\n",
    "        print(f\"The animal type is {type}\")\n",
    "    \n",
    "class Dog(Animal):\n",
    "    def type(self,type:str):\n",
    "        print(f\"dog funtion {type}\")\n",
    "\n",
    "class Cat(Animal):\n",
    "    def type(self,type:str):\n",
    "        print(f\"cat funtion {type}\")"
   ]
  },
  {
   "cell_type": "code",
   "execution_count": 6,
   "metadata": {},
   "outputs": [
    {
     "name": "stdout",
     "output_type": "stream",
     "text": [
      "dog funtion Huskey\n",
      "cat funtion Huskey\n",
      "The animal type is lion\n"
     ]
    }
   ],
   "source": [
    "dog:Dog = Dog()\n",
    "cat:Cat = Cat()\n",
    "animal:Animal = Animal()\n",
    "\n",
    "dog.type(\"Huskey\")\n",
    "cat.type(\"Huskey\")\n",
    "animal.type(\"lion\")"
   ]
  },
  {
   "cell_type": "markdown",
   "metadata": {},
   "source": [
    "# Polymorphism"
   ]
  },
  {
   "cell_type": "code",
   "execution_count": 27,
   "metadata": {},
   "outputs": [
    {
     "name": "stdout",
     "output_type": "stream",
     "text": [
      "dog funtion Huskey\n",
      "cat funtion Huskey\n",
      "The animal type is lion\n"
     ]
    }
   ],
   "source": [
    "dog:Animal = Dog()\n",
    "cat:Animal = Cat()\n",
    "animal:object = Animal()\n",
    "\n",
    "dog.type(\"Huskey\")\n",
    "cat.type(\"Huskey\")\n",
    "animal.type(\"lion\")"
   ]
  },
  {
   "cell_type": "markdown",
   "metadata": {},
   "source": [
    "# Static Method & Static Variable\n",
    "    for calling them you dont need to create a object you can call them through the class"
   ]
  },
  {
   "cell_type": "code",
   "execution_count": 31,
   "metadata": {},
   "outputs": [],
   "source": [
    "\n",
    "union_type = int | float\n",
    "class Calculator():\n",
    "    @staticmethod\n",
    "    def add(x:union_type ,y:union_type ) -> union_type:\n",
    "        return x + y\n",
    "    @staticmethod\n",
    "    def sub(x:union_type ,y:union_type ) -> union_type:\n",
    "        return x - y\n",
    "    @staticmethod\n",
    "    def mult(x:union_type ,y:union_type ) -> union_type:\n",
    "        return x * y\n",
    "    @staticmethod\n",
    "    def div(x:union_type ,y:union_type ) -> union_type:\n",
    "        return x / y"
   ]
  },
  {
   "cell_type": "code",
   "execution_count": 33,
   "metadata": {},
   "outputs": [
    {
     "name": "stdout",
     "output_type": "stream",
     "text": [
      "20\n",
      "0\n",
      "100\n",
      "1.0\n"
     ]
    }
   ],
   "source": [
    "print(Calculator.add(10,10))\n",
    "print(Calculator.sub(10,10))\n",
    "print(Calculator.mult(10,10))\n",
    "print(Calculator.div(10,10))"
   ]
  },
  {
   "cell_type": "code",
   "execution_count": null,
   "metadata": {},
   "outputs": [],
   "source": []
  }
 ],
 "metadata": {
  "kernelspec": {
   "display_name": "my_python",
   "language": "python",
   "name": "python3"
  },
  "language_info": {
   "codemirror_mode": {
    "name": "ipython",
    "version": 3
   },
   "file_extension": ".py",
   "mimetype": "text/x-python",
   "name": "python",
   "nbconvert_exporter": "python",
   "pygments_lexer": "ipython3",
   "version": "3.12.0"
  }
 },
 "nbformat": 4,
 "nbformat_minor": 2
}
