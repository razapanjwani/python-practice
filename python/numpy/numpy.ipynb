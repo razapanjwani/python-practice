{
 "cells": [
  {
   "cell_type": "code",
   "execution_count": 5,
   "metadata": {},
   "outputs": [],
   "source": [
    "import numpy as np\n",
    "from nptyping import NDArray ,Shape\n",
    "\n",
    "\n"
   ]
  },
  {
   "cell_type": "markdown",
   "metadata": {},
   "source": [
    "# Dimensions of Array"
   ]
  },
  {
   "cell_type": "code",
   "execution_count": 6,
   "metadata": {},
   "outputs": [],
   "source": [
    "# 3D array\n",
    "arr:list[list[list[int]]] = [[[1,2,3],[4,5,6]],[[7,8,9],[10,11,12]]]\n"
   ]
  },
  {
   "cell_type": "code",
   "execution_count": 7,
   "metadata": {},
   "outputs": [
    {
     "data": {
      "text/plain": [
       "5"
      ]
     },
     "execution_count": 7,
     "metadata": {},
     "output_type": "execute_result"
    }
   ],
   "source": [
    "# 2D array\n",
    "arr:list[list[int]] = [[1,2,3],[4,5,6]]\n",
    "arr[1][1]"
   ]
  },
  {
   "cell_type": "code",
   "execution_count": 8,
   "metadata": {},
   "outputs": [
    {
     "name": "stdout",
     "output_type": "stream",
     "text": [
      "1000 === <class 'numpy.ndarray'>\n",
      "() Shape of array\n",
      "int32 Data type of array\n",
      "0 Dimension of array\n",
      "4 Size of each element in bytes\n",
      "4 Total size of array in bytes\n",
      "1 Total number of elements in array\n",
      "<memory at 0x0000025038764400> Memory address of array\n",
      "() Strides of array\n",
      "None Base of array\n",
      "1000 Object of array\n",
      "  C_CONTIGUOUS : True\n",
      "  F_CONTIGUOUS : True\n",
      "  OWNDATA : True\n",
      "  WRITEABLE : True\n",
      "  ALIGNED : True\n",
      "  WRITEBACKIFCOPY : False\n",
      " Flags of array\n"
     ]
    }
   ],
   "source": [
    "arr:NDArray= np.array(1000)\n",
    "print(arr,\"===\",type(arr))\n",
    "print(arr.shape,\"Shape of array\")\n",
    "print(arr.dtype,\"Data type of array\")\n",
    "print(arr.ndim,\"Dimension of array\")\n",
    "print(arr.itemsize,\"Size of each element in bytes\")\n",
    "print(arr.nbytes,\"Total size of array in bytes\")\n",
    "print(arr.size,\"Total number of elements in array\")\n",
    "print(arr.data,\"Memory address of array\")\n",
    "print(arr.strides,\"Strides of array\")\n",
    "print(arr.base,\"Base of array\")\n",
    "print(arr.data.obj,\"Object of array\")\n",
    "print(arr.flags,\"Flags of array\")"
   ]
  },
  {
   "cell_type": "code",
   "execution_count": 9,
   "metadata": {},
   "outputs": [],
   "source": [
    "from typing import Any\n",
    "from nptyping import NDArray ,Shape\n",
    "\n",
    "arr:NDArray[Shape[\"10\"],Any] = np.array([[1,2,3,4],[5,6,7,8]])\n",
    "# print(arr,\"===\",type(arr))\n",
    "# print(arr.shape,\"Shape of array\")\n",
    "# print(arr.dtype,\"Data type of array\")\n",
    "# print(arr.ndim,\"Dimension of array\")\n",
    "# print(arr.itemsize,\"Size of each element in bytes\")\n",
    "# print(arr.nbytes,\"Total size of array in bytes\")\n",
    "# print(arr.size,\"Total number of elements in array\")\n",
    "# print(arr.data,\"Memory address of array\")   \n",
    "# print(arr.strides,\"Strides of array\")\n",
    "# print(arr.base,\"Base of array\")\n",
    "# print(arr.data.obj,\"Object of array\")\n",
    "# print(arr.flags,\"Flags of array\")"
   ]
  },
  {
   "cell_type": "code",
   "execution_count": 10,
   "metadata": {},
   "outputs": [
    {
     "data": {
      "text/plain": [
       "array([[ 2,  4,  6,  8],\n",
       "       [10, 12, 14, 16]])"
      ]
     },
     "metadata": {},
     "output_type": "display_data"
    }
   ],
   "source": [
    "from typing import Any\n",
    "my_list:NDArray[Shape[\"2 , 4\"],Any] = np.array([[1,2,3,4],[5,6,7,8]])\n",
    "# my_list_range:NDArray[Shape[\"10\"],Any] = np.arange(1,11)\n",
    "# my_list_range.shape\n",
    "# you can perform any operation on the elements of the array without using loop ot using list comprehension you can do ot directly.\n",
    "\n",
    "# display(my_list_range + my_list_range)\n",
    "display(my_list + my_list)\n"
   ]
  },
  {
   "cell_type": "code",
   "execution_count": 13,
   "metadata": {},
   "outputs": [
    {
     "data": {
      "text/plain": [
       "array([100, 100, 100,   4])"
      ]
     },
     "execution_count": 13,
     "metadata": {},
     "output_type": "execute_result"
    }
   ],
   "source": [
    "my_arr = np.array([1,2,3,4])\n",
    "my_arr[0:3] = 100\n",
    "my_arr\n"
   ]
  },
  {
   "cell_type": "code",
   "execution_count": 21,
   "metadata": {},
   "outputs": [
    {
     "data": {
      "text/plain": [
       "array([[1, 2]])"
      ]
     },
     "execution_count": 21,
     "metadata": {},
     "output_type": "execute_result"
    }
   ],
   "source": [
    "my_arr = np.array([[1,2,3,4],[5,6,7,8],[9,10,11,12]])\n",
    "my_arr[0:1,0:2]"
   ]
  },
  {
   "cell_type": "markdown",
   "metadata": {},
   "source": [
    "In numpy you can also do boolean slicing"
   ]
  },
  {
   "cell_type": "code",
   "execution_count": 27,
   "metadata": {},
   "outputs": [
    {
     "data": {
      "text/plain": [
       "array([2, 4, 6, 8])"
      ]
     },
     "execution_count": 27,
     "metadata": {},
     "output_type": "execute_result"
    }
   ],
   "source": [
    "my_arr = np.array([[[1,2,3,4],[5,6,7,8],[9,10,11,12]]])\n",
    "new_arr = my_arr[0:1,0:2,0:4]\n",
    "remainder = new_arr % 2 == 0\n",
    "new_arr[remainder]"
   ]
  },
  {
   "cell_type": "code",
   "execution_count": 53,
   "metadata": {},
   "outputs": [
    {
     "data": {
      "text/plain": [
       "array([[[0, 1, 2]]])"
      ]
     },
     "execution_count": 53,
     "metadata": {},
     "output_type": "execute_result"
    }
   ],
   "source": [
    "myarr = np.arange(1*1*3).reshape(1,1,3)\n",
    "myarr"
   ]
  }
 ],
 "metadata": {
  "kernelspec": {
   "display_name": "my_python",
   "language": "python",
   "name": "python3"
  },
  "language_info": {
   "codemirror_mode": {
    "name": "ipython",
    "version": 3
   },
   "file_extension": ".py",
   "mimetype": "text/x-python",
   "name": "python",
   "nbconvert_exporter": "python",
   "pygments_lexer": "ipython3",
   "version": "3.12.0"
  }
 },
 "nbformat": 4,
 "nbformat_minor": 2
}
