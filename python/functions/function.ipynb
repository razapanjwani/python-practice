{
 "cells": [
  {
   "cell_type": "code",
   "execution_count": 18,
   "metadata": {},
   "outputs": [
    {
     "name": "stdout",
     "output_type": "stream",
     "text": [
      "1\n",
      "2\n"
     ]
    }
   ],
   "source": [
    "# generator function is same as normal function \n",
    "def count_up_to(limit):\n",
    "    count = 1\n",
    "    while count <= limit:\n",
    "        yield count\n",
    "        count += 1\n",
    "\n",
    "# Using the generator function\n",
    "counter = count_up_to(5)\n",
    "print(next(counter))\n",
    "print(next(counter))\n"
   ]
  },
  {
   "cell_type": "code",
   "execution_count": 19,
   "metadata": {},
   "outputs": [
    {
     "name": "stdout",
     "output_type": "stream",
     "text": [
      "<class 'int'>\n"
     ]
    }
   ],
   "source": [
    "def calculator(x:int,y:int,method:str) -> int | None:\n",
    "    if method == \"+\":\n",
    "        return x + y\n",
    "    if method == \"-\":\n",
    "        return x - y\n",
    "    if method == \"*\":\n",
    "        return x * y\n",
    "    if method == \"/\":\n",
    "        return x // y\n",
    "sum = type(calculator(3,3,\"*\"))\n",
    "print(sum)"
   ]
  },
  {
   "cell_type": "code",
   "execution_count": 32,
   "metadata": {},
   "outputs": [
    {
     "name": "stdout",
     "output_type": "stream",
     "text": [
      "raza\n",
      "ali\n",
      "hussain\n"
     ]
    }
   ],
   "source": [
    "from typing import List\n",
    "\n",
    "\n",
    "def greeting(names:List[str]) -> None:\n",
    "    for name in names:\n",
    "        print(name)\n",
    "        \n",
    "name = greeting([\"raza\",\"ali\",\"hussain\"])\n"
   ]
  },
  {
   "cell_type": "code",
   "execution_count": 33,
   "metadata": {},
   "outputs": [
    {
     "data": {
      "text/plain": [
       "3"
      ]
     },
     "execution_count": 33,
     "metadata": {},
     "output_type": "execute_result"
    }
   ],
   "source": [
    "a = lambda x,y : x + y\n",
    "a(1,2)"
   ]
  },
  {
   "cell_type": "code",
   "execution_count": 36,
   "metadata": {},
   "outputs": [
    {
     "name": "stdout",
     "output_type": "stream",
     "text": [
      "30\n"
     ]
    }
   ],
   "source": [
    "from typing import Callable\n",
    "add:Callable[[int,int],int] = lambda num1,num2 : num1 + num2\n",
    "result = add(10,20)\n",
    "print(result)"
   ]
  },
  {
   "cell_type": "code",
   "execution_count": 4,
   "metadata": {},
   "outputs": [
    {
     "data": {
      "text/plain": [
       "[1, 4, 9, 16, 25, 36, 49, 64, 81, 100, 121, 144, 169, 196, 225]"
      ]
     },
     "execution_count": 4,
     "metadata": {},
     "output_type": "execute_result"
    }
   ],
   "source": [
    "lst:list[int] = [1,2,3,4,5,6,7,8,9,10,11,12,13,14,15]\n",
    "num = list(map(lambda x : x**2,lst)) \n",
    "num"
   ]
  },
  {
   "cell_type": "code",
   "execution_count": 3,
   "metadata": {},
   "outputs": [
    {
     "data": {
      "text/plain": [
       "[2, 4, 6, 8, 10, 12, 14]"
      ]
     },
     "execution_count": 3,
     "metadata": {},
     "output_type": "execute_result"
    }
   ],
   "source": [
    "lst:list[int] = [1,2,3,4,5,6,7,8,9,10,11,12,13,14,15]\n",
    "num = list(filter(lambda x : x %2 == 0,lst)) \n",
    "num"
   ]
  },
  {
   "cell_type": "markdown",
   "metadata": {},
   "source": [
    "# Generator Functions"
   ]
  },
  {
   "cell_type": "code",
   "execution_count": 15,
   "metadata": {},
   "outputs": [
    {
     "name": "stdout",
     "output_type": "stream",
     "text": [
      "2\n",
      "4\n",
      "6\n",
      "8\n",
      "10\n",
      "12\n",
      "14\n"
     ]
    }
   ],
   "source": [
    "from typing import Iterator\n",
    "\n",
    "\n",
    "lst:list[int] = [1,2,3,4,5,6,7,8,9,10,11,12,13,14,15]\n",
    "def extracting(x:list[int]) -> Iterator[int]:\n",
    "    for num in x:\n",
    "        if (num % 2 == 0):\n",
    "            yield num\n",
    "\n",
    "filtering = extracting(lst)\n",
    "for i in filtering:\n",
    "    print(i)"
   ]
  },
  {
   "cell_type": "markdown",
   "metadata": {},
   "source": [
    "# Wrapper Functions"
   ]
  },
  {
   "cell_type": "code",
   "execution_count": 14,
   "metadata": {},
   "outputs": [
    {
     "name": "stdout",
     "output_type": "stream",
     "text": [
      "this print before the function\n",
      "100\n",
      "this run after the function\n"
     ]
    }
   ],
   "source": [
    "from typing import Callable\n",
    "def wrapper_function(func:Callable[[int],None]):\n",
    "    def inner_function(num1:int):\n",
    "        print(\"this print before the function\")\n",
    "        func(num1)\n",
    "        print(\"this run after the function\")\n",
    "    return inner_function\n",
    "\n",
    "@wrapper_function\n",
    "def say_number(num1):\n",
    "    print(num1)\n",
    "\n",
    "say_number(100)"
   ]
  },
  {
   "cell_type": "code",
   "execution_count": 21,
   "metadata": {},
   "outputs": [
    {
     "name": "stdout",
     "output_type": "stream",
     "text": [
      "[1, 2, 3, 5]\n",
      "{1, 2, 34, 5}\n",
      "10\n",
      "11\n",
      "raza\n",
      "{'a': 'raza', 'b': 'ali'}\n",
      "1 numsss\n"
     ]
    }
   ],
   "source": [
    "# You can pass unlimited arguments in this functions\n",
    "def abc(*nums):\n",
    "    for i in nums:\n",
    "        print(i)\n",
    "    print(nums[0][0],\"numsss\")\n",
    "abc([1,2,3,5],{1,2,34,5},10,11,\"raza\",{\"a\":\"raza\",\"b\":\"ali\"})\n"
   ]
  },
  {
   "cell_type": "code",
   "execution_count": 29,
   "metadata": {},
   "outputs": [
    {
     "name": "stdout",
     "output_type": "stream",
     "text": [
      "{'a': 'raza', 'b': 'ali'}\n"
     ]
    }
   ],
   "source": [
    "# This function take key and value as an argument and returns a dict.\n",
    "\n",
    "from typing import Dict\n",
    "\n",
    "\n",
    "def xyz(**xyz:str) -> None:\n",
    "    print(xyz)\n",
    "xyz(a=\"raza\",b=\"ali\")"
   ]
  },
  {
   "cell_type": "code",
   "execution_count": 11,
   "metadata": {},
   "outputs": [
    {
     "name": "stdout",
     "output_type": "stream",
     "text": [
      "second function\n",
      "hello ali\n"
     ]
    }
   ],
   "source": [
    "def my_wrapper(func):\n",
    "    def second_function(arg:str):\n",
    "        print(\"second function\")\n",
    "        func(arg)\n",
    "    return second_function(\"ali\")\n",
    "@my_wrapper\n",
    "def hello(name = \"raza\"):\n",
    "    print(f\"hello {name}\")\n",
    "\n"
   ]
  }
 ],
 "metadata": {
  "kernelspec": {
   "display_name": "my_python",
   "language": "python",
   "name": "python3"
  },
  "language_info": {
   "codemirror_mode": {
    "name": "ipython",
    "version": 3
   },
   "file_extension": ".py",
   "mimetype": "text/x-python",
   "name": "python",
   "nbconvert_exporter": "python",
   "pygments_lexer": "ipython3",
   "version": "3.12.0"
  }
 },
 "nbformat": 4,
 "nbformat_minor": 2
}
