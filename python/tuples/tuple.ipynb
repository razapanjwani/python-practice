{
 "cells": [
  {
   "cell_type": "code",
   "execution_count": 13,
   "metadata": {},
   "outputs": [
    {
     "name": "stdout",
     "output_type": "stream",
     "text": [
      "virat\n"
     ]
    },
    {
     "data": {
      "text/plain": [
       "[0, 2, 4]"
      ]
     },
     "execution_count": 13,
     "metadata": {},
     "output_type": "execute_result"
    }
   ],
   "source": [
    "cricketers = [\"virat\",\"babar\",\"travis\",\"adam\",\"kevin\"]\n",
    "for batsman in cricketers:\n",
    "    print(batsman)\n",
    "    break \n",
    "else:\n",
    "    print(\"not batsman\")\n",
    "list(range(0,5,2))"
   ]
  },
  {
   "cell_type": "code",
   "execution_count": 31,
   "metadata": {},
   "outputs": [
    {
     "name": "stdout",
     "output_type": "stream",
     "text": [
      "user:raza,pass:123\n"
     ]
    }
   ],
   "source": [
    "from typing import Any\n",
    "\n",
    "name_input = str(input(\"Enter your name:\"))\n",
    "pass_input = int(input(\"Enter your password:\"))\n",
    "mytuple:tuple[str,str,int] = (\"raza\",\"ali\",1)\n",
    "mytuple.index(1)\n",
    "mylist:list[tuple] = [(\"raza\",123),(\"ali\",456),(\"hussain\",789)]\n",
    "for user,password in mylist:\n",
    "    if(password == pass_input and user == name_input):\n",
    "        print(f\"\"\"user:{user},pass:{password}\"\"\")\n",
    "        break\n",
    "else:\n",
    "    print(\"nger\")\n",
    "        \n"
   ]
  },
  {
   "cell_type": "code",
   "execution_count": 34,
   "metadata": {},
   "outputs": [
    {
     "data": {
      "text/plain": [
       "'Raza'"
      ]
     },
     "execution_count": 34,
     "metadata": {},
     "output_type": "execute_result"
    }
   ],
   "source": [
    "tupple = (\"raza\",[1,2,3])\n",
    "tupple[1].append(4)\n",
    "tupple[0].title()"
   ]
  }
 ],
 "metadata": {
  "kernelspec": {
   "display_name": "my_python",
   "language": "python",
   "name": "python3"
  },
  "language_info": {
   "codemirror_mode": {
    "name": "ipython",
    "version": 3
   },
   "file_extension": ".py",
   "mimetype": "text/x-python",
   "name": "python",
   "nbconvert_exporter": "python",
   "pygments_lexer": "ipython3",
   "version": "3.12.0"
  }
 },
 "nbformat": 4,
 "nbformat_minor": 2
}
